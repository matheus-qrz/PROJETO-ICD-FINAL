{
 "cells": [
  {
   "cell_type": "markdown",
   "id": "least-stake",
   "metadata": {},
   "source": [
    "# STAR WARS segundo os fãs\n",
    "## Medidas de centralidade e dispersão dos Datasets\n",
    "## pesquisa realizada com 471 pessoas que assistiram aos 6 filmes\n",
    "#### Aluno: Matheus Queiroz de Oliveira\n",
    "#### Matrícula: 20180071258\n",
    "####            Bacharelado em Ciência de Dados e Inteligência Artificial\n",
    "\n",
    "\n",
    "\n",
    "\n",
    "\n",
    "\n",
    "\n",
    "\n",
    "\n",
    "\n",
    "## Introdução\n",
    "\n",
    "Muito difícil hoje em dia falarmos dos grandes nomes do cinema sem citarmos a genial Guerra nas Estrelas de George Lucas. Saga esta que revolucionou o cinema da época de 1977 com efeitos e história completa e de alto nível de ficção,\n",
    "e seu mundo de esperanças, fortes referências e personagens autênticos. Sendo assim, muito se discute dentre os fãs sobre quais os melhores piores filmes, personanges, arcos, entre outros detalhes de sua grandiosa história,\n",
    "os quais muitas vezes podemos extrair interessantes informações cabíveis até mesmo a relação entre personalidade e arco ou personagem do filme, e também sobre suas atuais e futuras séries e tão esperadas live-actions.\n"
   ]
  },
  {
   "cell_type": "markdown",
   "id": "iraqi-marble",
   "metadata": {},
   "source": [
    "## Dados utilizados\n",
    "Neste relatório, será abordado algumas perguntas de datasets utilizados do Buzzfeed e FiveThirtyEight.\n",
    "Os Datasets do FiveThirtyEight nos mostram dados de entrevistas e perguntas feitas a 471 pessoas a respeito de filmes e personagens dos 6 primeiros filmes,\n",
    "enquanto que no BuzzFeed, temos algumas fontes e especulações a respeito das futuras promessas da Saga Guerra nas Estrelas\n"
   ]
  },
  {
   "cell_type": "markdown",
   "id": "constant-symbol",
   "metadata": {},
   "source": [
    "## Pré-processamento (Limpezas e Transformações)\n",
    "\n",
    "Visto que o Dataset disponibilizado pelo FiveThirtyEight estava simples, organizado e direto, poucas modificações foram necessárias. O objetivo deste relatório é responder a simples perguntas referentes aos primeiros filmes da Saga Star Wars.\n",
    "A visualização da tabela raw disponibilizada no GitHub foi ajustada com o pandas e pode ser visualizada no final deste \n",
    "relatório, constando dados utilizados como resposta as perguntas.\n"
   ]
  },
  {
   "cell_type": "markdown",
   "id": "romantic-balloon",
   "metadata": {},
   "source": [
    "## Perguntas consideradas\n",
    "* 1 - Segundo os dados do FiveThirtyEight, quais foram os dois melhores filmes de acordo com os fãs?\n"
   ]
  },
  {
   "cell_type": "markdown",
   "id": "organizational-powder",
   "metadata": {},
   "source": [
    "  Pelos dados de pesquisa, o vencedor foi \"O Império Contra-ataca\", com 36% dos votos, com uma média harmonica de 145.34 entre os votos, e \"Uma Nova Esperança\", que segue com 27% dos votos, e uma dispersão de 449.23 votos.\n",
    "    \n",
    "  De fato, um dos melhores filmes da Saga com uma grande reviravolta para os Sith. A traição do dito escolhido Jedi Anakin Skywalker em prol do Imperador Sith quebrou toda a expectativa do fim do mal pelas mãos do Conselho Jedi e também transformou o personagem em Darth Vader, o grande lorde sombrio, que viria a ser causador do fim da paz e dos Jedi."
   ]
  },
  {
   "cell_type": "code",
   "execution_count": 14,
   "id": "deadly-bahrain",
   "metadata": {},
   "outputs": [
    {
     "name": "stdout",
     "output_type": "stream",
     "text": [
      "A média harmônica foi de: 145.34\n"
     ]
    }
   ],
   "source": [
    "import numpy as np\n",
    "import statistics as sts\n",
    "\n",
    "two_best_movies = [169.56, 127.17] ##Os dois melhores filmes\n",
    "media_harmonica = sts.harmonic_mean(two_best_movies)\n",
    "\n",
    "print(f'A média harmônica foi de:{media_harmonica: .2f}')"
   ]
  },
  {
   "cell_type": "code",
   "execution_count": 10,
   "id": "french-portable",
   "metadata": {},
   "outputs": [
    {
     "name": "stdout",
     "output_type": "stream",
     "text": [
      " 449.23\n"
     ]
    }
   ],
   "source": [
    "two_best_movies = [169.56, 127.17]\n",
    "dispersao = sts.pvariance(two_best_movies)\n",
    "print(f'{dispersao: .2f}')"
   ]
  },
  {
   "cell_type": "markdown",
   "id": "twelve-scanning",
   "metadata": {},
   "source": [
    "* 2 - Quais os filmes mais bem avaliados pelos fãs?\")\n",
    "Na liderança, continuamos com 'O Império Contra-ataca'(64% dos votos), seguindo de 'Uma Nova Esperança'(50%), e 'O Retorno dos Jedi'(43%).\n"
   ]
  },
  {
   "cell_type": "code",
   "execution_count": 12,
   "id": "sapphire-mediterranean",
   "metadata": {},
   "outputs": [
    {
     "name": "stdout",
     "output_type": "stream",
     "text": [
      "A média harmônica dentre os filmes foi de 239.98,\n"
     ]
    }
   ],
   "source": [
    "wellRated = [301.44, 235.5, 202.53]\n",
    "media_harmonica_goodrating = sts.harmonic_mean(wellRated)\n",
    "print(f'A média harmônica dentre os filmes foi de {media_harmonica_goodrating:.2f},')"
   ]
  },
  {
   "cell_type": "code",
   "execution_count": 20,
   "id": "constant-adelaide",
   "metadata": {},
   "outputs": [],
   "source": [
    "dispersao_goodrating = sts.pvariance(wellRated)"
   ]
  },
  {
   "cell_type": "code",
   "execution_count": 31,
   "id": "civilian-characterization",
   "metadata": {},
   "outputs": [
    {
     "name": "stdout",
     "output_type": "stream",
     "text": [
      "A variação foi de: 1690.92\n"
     ]
    }
   ],
   "source": [
    "print(f'seguindo de uma variação de {dispersao_goodrating:.2f} dentre os mesmos.')"
   ]
  },
  {
   "cell_type": "markdown",
   "id": "exciting-coverage",
   "metadata": {},
   "source": [
    "* 3 - Quais os filmes mais mal avaliados dentre os fãs?\n",
    "\n",
    "O primeiro e polêmico mal avaliado 'Guerra dos Clones' obteve a maioria dos votos (57%), seguindo 'Vingança dos Sith'(47%) e 'Ameaça Fantasma'(46%).\n"
   ]
  },
  {
   "cell_type": "code",
   "execution_count": 33,
   "id": "economic-aircraft",
   "metadata": {},
   "outputs": [
    {
     "name": "stdout",
     "output_type": "stream",
     "text": [
      "A média harmônica de filmes mal avaliados foi de: 233.32\n"
     ]
    }
   ],
   "source": [
    "badlyRated = [268.47, 221.37, 216.66]\n",
    "media_harmonica_badrating = sts.harmonic_mean(badlyRated)\n",
    "\n",
    "print(f'A média harmônica de filmes mal avaliados foi de: {media_harmonica_badrating:.2f}')"
   ]
  },
  {
   "cell_type": "code",
   "execution_count": 34,
   "id": "soviet-century",
   "metadata": {},
   "outputs": [
    {
     "name": "stdout",
     "output_type": "stream",
     "text": [
      "A variação de filmes mal avaliados foi de: 547.21\n"
     ]
    }
   ],
   "source": [
    "dispersao_badrating = sts.pvariance(badlyRated)\n",
    "print(f'A variação de filmes mal avaliados foi de: {dispersao_badrating:.2f}')"
   ]
  },
  {
   "cell_type": "code",
   "execution_count": 35,
   "id": "abandoned-operator",
   "metadata": {},
   "outputs": [
    {
     "data": {
      "text/html": [
       "<div>\n",
       "<style scoped>\n",
       "    .dataframe tbody tr th:only-of-type {\n",
       "        vertical-align: middle;\n",
       "    }\n",
       "\n",
       "    .dataframe tbody tr th {\n",
       "        vertical-align: top;\n",
       "    }\n",
       "\n",
       "    .dataframe thead th {\n",
       "        text-align: right;\n",
       "    }\n",
       "</style>\n",
       "<table border=\"1\" class=\"dataframe\">\n",
       "  <thead>\n",
       "    <tr style=\"text-align: right;\">\n",
       "      <th></th>\n",
       "      <th>RespondentID</th>\n",
       "      <th>Have you seen any of the 6 films in the Star Wars franchise?</th>\n",
       "      <th>Do you consider yourself to be a fan of the Star Wars film franchise?</th>\n",
       "      <th>Which of the following Star Wars films have you seen? Please select all that apply.</th>\n",
       "      <th>Unnamed: 4</th>\n",
       "      <th>Unnamed: 5</th>\n",
       "      <th>Unnamed: 6</th>\n",
       "      <th>Unnamed: 7</th>\n",
       "      <th>Unnamed: 8</th>\n",
       "      <th>Please rank the Star Wars films in order of preference with 1 being your favorite film in the franchise and 6 being your least favorite film.</th>\n",
       "      <th>...</th>\n",
       "      <th>Unnamed: 28</th>\n",
       "      <th>Which character shot first?</th>\n",
       "      <th>Are you familiar with the Expanded Universe?</th>\n",
       "      <th>Do you consider yourself to be a fan of the Expanded Universe?æ</th>\n",
       "      <th>Do you consider yourself to be a fan of the Star Trek franchise?</th>\n",
       "      <th>Gender</th>\n",
       "      <th>Age</th>\n",
       "      <th>Household Income</th>\n",
       "      <th>Education</th>\n",
       "      <th>Location (Census Region)</th>\n",
       "    </tr>\n",
       "  </thead>\n",
       "  <tbody>\n",
       "    <tr>\n",
       "      <th>0</th>\n",
       "      <td>NaN</td>\n",
       "      <td>Response</td>\n",
       "      <td>Response</td>\n",
       "      <td>Star Wars: Episode I  The Phantom Menace</td>\n",
       "      <td>Star Wars: Episode II  Attack of the Clones</td>\n",
       "      <td>Star Wars: Episode III  Revenge of the Sith</td>\n",
       "      <td>Star Wars: Episode IV  A New Hope</td>\n",
       "      <td>Star Wars: Episode V The Empire Strikes Back</td>\n",
       "      <td>Star Wars: Episode VI Return of the Jedi</td>\n",
       "      <td>Star Wars: Episode I  The Phantom Menace</td>\n",
       "      <td>...</td>\n",
       "      <td>Yoda</td>\n",
       "      <td>Response</td>\n",
       "      <td>Response</td>\n",
       "      <td>Response</td>\n",
       "      <td>Response</td>\n",
       "      <td>Response</td>\n",
       "      <td>Response</td>\n",
       "      <td>Response</td>\n",
       "      <td>Response</td>\n",
       "      <td>Response</td>\n",
       "    </tr>\n",
       "    <tr>\n",
       "      <th>1</th>\n",
       "      <td>3.292880e+09</td>\n",
       "      <td>Yes</td>\n",
       "      <td>Yes</td>\n",
       "      <td>Star Wars: Episode I  The Phantom Menace</td>\n",
       "      <td>Star Wars: Episode II  Attack of the Clones</td>\n",
       "      <td>Star Wars: Episode III  Revenge of the Sith</td>\n",
       "      <td>Star Wars: Episode IV  A New Hope</td>\n",
       "      <td>Star Wars: Episode V The Empire Strikes Back</td>\n",
       "      <td>Star Wars: Episode VI Return of the Jedi</td>\n",
       "      <td>3</td>\n",
       "      <td>...</td>\n",
       "      <td>Very favorably</td>\n",
       "      <td>I don't understand this question</td>\n",
       "      <td>Yes</td>\n",
       "      <td>No</td>\n",
       "      <td>No</td>\n",
       "      <td>Male</td>\n",
       "      <td>18-29</td>\n",
       "      <td>NaN</td>\n",
       "      <td>High school degree</td>\n",
       "      <td>South Atlantic</td>\n",
       "    </tr>\n",
       "    <tr>\n",
       "      <th>2</th>\n",
       "      <td>3.292880e+09</td>\n",
       "      <td>No</td>\n",
       "      <td>NaN</td>\n",
       "      <td>NaN</td>\n",
       "      <td>NaN</td>\n",
       "      <td>NaN</td>\n",
       "      <td>NaN</td>\n",
       "      <td>NaN</td>\n",
       "      <td>NaN</td>\n",
       "      <td>NaN</td>\n",
       "      <td>...</td>\n",
       "      <td>NaN</td>\n",
       "      <td>NaN</td>\n",
       "      <td>NaN</td>\n",
       "      <td>NaN</td>\n",
       "      <td>Yes</td>\n",
       "      <td>Male</td>\n",
       "      <td>18-29</td>\n",
       "      <td>$0 - $24,999</td>\n",
       "      <td>Bachelor degree</td>\n",
       "      <td>West South Central</td>\n",
       "    </tr>\n",
       "    <tr>\n",
       "      <th>3</th>\n",
       "      <td>3.292765e+09</td>\n",
       "      <td>Yes</td>\n",
       "      <td>No</td>\n",
       "      <td>Star Wars: Episode I  The Phantom Menace</td>\n",
       "      <td>Star Wars: Episode II  Attack of the Clones</td>\n",
       "      <td>Star Wars: Episode III  Revenge of the Sith</td>\n",
       "      <td>NaN</td>\n",
       "      <td>NaN</td>\n",
       "      <td>NaN</td>\n",
       "      <td>1</td>\n",
       "      <td>...</td>\n",
       "      <td>Unfamiliar (N/A)</td>\n",
       "      <td>I don't understand this question</td>\n",
       "      <td>No</td>\n",
       "      <td>NaN</td>\n",
       "      <td>No</td>\n",
       "      <td>Male</td>\n",
       "      <td>18-29</td>\n",
       "      <td>$0 - $24,999</td>\n",
       "      <td>High school degree</td>\n",
       "      <td>West North Central</td>\n",
       "    </tr>\n",
       "    <tr>\n",
       "      <th>4</th>\n",
       "      <td>3.292763e+09</td>\n",
       "      <td>Yes</td>\n",
       "      <td>Yes</td>\n",
       "      <td>Star Wars: Episode I  The Phantom Menace</td>\n",
       "      <td>Star Wars: Episode II  Attack of the Clones</td>\n",
       "      <td>Star Wars: Episode III  Revenge of the Sith</td>\n",
       "      <td>Star Wars: Episode IV  A New Hope</td>\n",
       "      <td>Star Wars: Episode V The Empire Strikes Back</td>\n",
       "      <td>Star Wars: Episode VI Return of the Jedi</td>\n",
       "      <td>5</td>\n",
       "      <td>...</td>\n",
       "      <td>Very favorably</td>\n",
       "      <td>I don't understand this question</td>\n",
       "      <td>No</td>\n",
       "      <td>NaN</td>\n",
       "      <td>Yes</td>\n",
       "      <td>Male</td>\n",
       "      <td>18-29</td>\n",
       "      <td>$100,000 - $149,999</td>\n",
       "      <td>Some college or Associate degree</td>\n",
       "      <td>West North Central</td>\n",
       "    </tr>\n",
       "  </tbody>\n",
       "</table>\n",
       "<p>5 rows × 38 columns</p>\n",
       "</div>"
      ],
      "text/plain": [
       "   RespondentID Have you seen any of the 6 films in the Star Wars franchise?  \\\n",
       "0           NaN                                           Response             \n",
       "1  3.292880e+09                                                Yes             \n",
       "2  3.292880e+09                                                 No             \n",
       "3  3.292765e+09                                                Yes             \n",
       "4  3.292763e+09                                                Yes             \n",
       "\n",
       "  Do you consider yourself to be a fan of the Star Wars film franchise?  \\\n",
       "0                                           Response                      \n",
       "1                                                Yes                      \n",
       "2                                                NaN                      \n",
       "3                                                 No                      \n",
       "4                                                Yes                      \n",
       "\n",
       "  Which of the following Star Wars films have you seen? Please select all that apply.  \\\n",
       "0           Star Wars: Episode I  The Phantom Menace                                    \n",
       "1           Star Wars: Episode I  The Phantom Menace                                    \n",
       "2                                                NaN                                    \n",
       "3           Star Wars: Episode I  The Phantom Menace                                    \n",
       "4           Star Wars: Episode I  The Phantom Menace                                    \n",
       "\n",
       "                                    Unnamed: 4  \\\n",
       "0  Star Wars: Episode II  Attack of the Clones   \n",
       "1  Star Wars: Episode II  Attack of the Clones   \n",
       "2                                          NaN   \n",
       "3  Star Wars: Episode II  Attack of the Clones   \n",
       "4  Star Wars: Episode II  Attack of the Clones   \n",
       "\n",
       "                                    Unnamed: 5  \\\n",
       "0  Star Wars: Episode III  Revenge of the Sith   \n",
       "1  Star Wars: Episode III  Revenge of the Sith   \n",
       "2                                          NaN   \n",
       "3  Star Wars: Episode III  Revenge of the Sith   \n",
       "4  Star Wars: Episode III  Revenge of the Sith   \n",
       "\n",
       "                          Unnamed: 6  \\\n",
       "0  Star Wars: Episode IV  A New Hope   \n",
       "1  Star Wars: Episode IV  A New Hope   \n",
       "2                                NaN   \n",
       "3                                NaN   \n",
       "4  Star Wars: Episode IV  A New Hope   \n",
       "\n",
       "                                     Unnamed: 7  \\\n",
       "0  Star Wars: Episode V The Empire Strikes Back   \n",
       "1  Star Wars: Episode V The Empire Strikes Back   \n",
       "2                                           NaN   \n",
       "3                                           NaN   \n",
       "4  Star Wars: Episode V The Empire Strikes Back   \n",
       "\n",
       "                                 Unnamed: 8  \\\n",
       "0  Star Wars: Episode VI Return of the Jedi   \n",
       "1  Star Wars: Episode VI Return of the Jedi   \n",
       "2                                       NaN   \n",
       "3                                       NaN   \n",
       "4  Star Wars: Episode VI Return of the Jedi   \n",
       "\n",
       "  Please rank the Star Wars films in order of preference with 1 being your favorite film in the franchise and 6 being your least favorite film.  \\\n",
       "0           Star Wars: Episode I  The Phantom Menace                                                                                              \n",
       "1                                                  3                                                                                              \n",
       "2                                                NaN                                                                                              \n",
       "3                                                  1                                                                                              \n",
       "4                                                  5                                                                                              \n",
       "\n",
       "   ...       Unnamed: 28       Which character shot first?  \\\n",
       "0  ...              Yoda                          Response   \n",
       "1  ...    Very favorably  I don't understand this question   \n",
       "2  ...               NaN                               NaN   \n",
       "3  ...  Unfamiliar (N/A)  I don't understand this question   \n",
       "4  ...    Very favorably  I don't understand this question   \n",
       "\n",
       "  Are you familiar with the Expanded Universe?  \\\n",
       "0                                     Response   \n",
       "1                                          Yes   \n",
       "2                                          NaN   \n",
       "3                                           No   \n",
       "4                                           No   \n",
       "\n",
       "  Do you consider yourself to be a fan of the Expanded Universe?æ  \\\n",
       "0                                           Response                 \n",
       "1                                                 No                 \n",
       "2                                                NaN                 \n",
       "3                                                NaN                 \n",
       "4                                                NaN                 \n",
       "\n",
       "  Do you consider yourself to be a fan of the Star Trek franchise?    Gender  \\\n",
       "0                                           Response                Response   \n",
       "1                                                 No                    Male   \n",
       "2                                                Yes                    Male   \n",
       "3                                                 No                    Male   \n",
       "4                                                Yes                    Male   \n",
       "\n",
       "        Age     Household Income                         Education  \\\n",
       "0  Response             Response                          Response   \n",
       "1     18-29                  NaN                High school degree   \n",
       "2     18-29         $0 - $24,999                   Bachelor degree   \n",
       "3     18-29         $0 - $24,999                High school degree   \n",
       "4     18-29  $100,000 - $149,999  Some college or Associate degree   \n",
       "\n",
       "  Location (Census Region)  \n",
       "0                 Response  \n",
       "1           South Atlantic  \n",
       "2       West South Central  \n",
       "3       West North Central  \n",
       "4       West North Central  \n",
       "\n",
       "[5 rows x 38 columns]"
      ]
     },
     "execution_count": 35,
     "metadata": {},
     "output_type": "execute_result"
    }
   ],
   "source": [
    "import pandas as pd\n",
    "\n",
    "bestMovies = pd.read_csv('https://raw.githubusercontent.com/fivethirtyeight/data/master/star-wars-survey/StarWars.csv', encoding=\"latin1\")\n",
    "\n",
    "bestMovies.head()"
   ]
  },
  {
   "cell_type": "markdown",
   "id": "respiratory-blocking",
   "metadata": {},
   "source": [
    "## Conclusão\n",
    "Apesar de simples, tais perguntam podem nos dar traços e avaliações que podem influenciar no futuro da saga. Tendo em vista que cada filme possui um ar específicio, seja de mistério, a grandes batalhas ou até mesmo fortes revelações, os diretores e produtoras poderão se guair melhor de acordo com\n",
    "seu próprio público alvo.\n",
    "\n",
    "A reação dos fãs quanto aos personagens nos mostram também a capacidade que a trama têm de fazer os seus fãs reagirem emocionalmente a toda ficção de George Luccas e sua criatividade, além das perspectivas das novas e futuras tramas que seguem a história dos melhores e mais impactantes dos personagens."
   ]
  }
 ],
 "metadata": {
  "kernelspec": {
   "display_name": "Python 3",
   "language": "python",
   "name": "python3"
  },
  "language_info": {
   "codemirror_mode": {
    "name": "ipython",
    "version": 3
   },
   "file_extension": ".py",
   "mimetype": "text/x-python",
   "name": "python",
   "nbconvert_exporter": "python",
   "pygments_lexer": "ipython3",
   "version": "3.8.10"
  }
 },
 "nbformat": 4,
 "nbformat_minor": 5
}
